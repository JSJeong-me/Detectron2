{
  "nbformat": 4,
  "nbformat_minor": 0,
  "metadata": {
    "colab": {
      "name": "Untitled16.ipynb",
      "provenance": [],
      "authorship_tag": "ABX9TyP4GgcGmWn9598YSRrijuUy",
      "include_colab_link": true
    },
    "kernelspec": {
      "name": "python3",
      "display_name": "Python 3"
    },
    "language_info": {
      "name": "python"
    }
  },
  "cells": [
    {
      "cell_type": "markdown",
      "metadata": {
        "id": "view-in-github",
        "colab_type": "text"
      },
      "source": [
        "<a href=\"https://colab.research.google.com/github/JSJeong-me/Detectron2/blob/main/image-video.ipynb\" target=\"_parent\"><img src=\"https://colab.research.google.com/assets/colab-badge.svg\" alt=\"Open In Colab\"/></a>"
      ]
    },
    {
      "cell_type": "markdown",
      "metadata": {
        "id": "cNxWnFB5OlgP"
      },
      "source": [
        "### git://github.com/jagin/detectron2-pipeline.git"
      ]
    },
    {
      "cell_type": "markdown",
      "metadata": {
        "id": "V0sg_1zJJkvT"
      },
      "source": [
        "### https://medium.com/deepvisionguru/how-to-embed-detectron2-in-your-computer-vision-project-817f29149461"
      ]
    },
    {
      "cell_type": "markdown",
      "metadata": {
        "id": "YwC7oT44OWrY"
      },
      "source": [
        "### https://medium.com/deepvisionguru/poseflow-real-time-pose-tracking-7f8062a7c996"
      ]
    },
    {
      "cell_type": "code",
      "metadata": {
        "colab": {
          "base_uri": "https://localhost:8080/"
        },
        "id": "IzcvFsXiJjY8",
        "outputId": "c114f566-dcff-4036-c1ae-c2b8d17f5aa6"
      },
      "source": [
        "!git clone git://github.com/jagin/detectron2-pipeline.git"
      ],
      "execution_count": 1,
      "outputs": [
        {
          "output_type": "stream",
          "name": "stdout",
          "text": [
            "Cloning into 'detectron2-pipeline'...\n",
            "remote: Enumerating objects: 128, done.\u001b[K\n",
            "remote: Counting objects: 100% (128/128), done.\u001b[K\n",
            "remote: Compressing objects: 100% (104/104), done.\u001b[K\n",
            "remote: Total 128 (delta 46), reused 102 (delta 22), pack-reused 0\u001b[K\n",
            "Receiving objects: 100% (128/128), 9.91 MiB | 16.42 MiB/s, done.\n",
            "Resolving deltas: 100% (46/46), done.\n"
          ]
        }
      ]
    },
    {
      "cell_type": "code",
      "metadata": {
        "colab": {
          "base_uri": "https://localhost:8080/"
        },
        "id": "jdGALtnQKFm6",
        "outputId": "804f32ee-7de8-466e-9f40-15b1c7ae8fd6"
      },
      "source": [
        "!pwd"
      ],
      "execution_count": 5,
      "outputs": [
        {
          "output_type": "stream",
          "name": "stdout",
          "text": [
            "/content/detectron2-pipeline\n"
          ]
        }
      ]
    },
    {
      "cell_type": "code",
      "metadata": {
        "colab": {
          "base_uri": "https://localhost:8080/"
        },
        "id": "ormcHClyJ7ZC",
        "outputId": "88d39ad5-df77-4157-ff0f-2eb43499b2f6"
      },
      "source": [
        "%cd /content/detectron2-pipeline"
      ],
      "execution_count": 2,
      "outputs": [
        {
          "output_type": "stream",
          "name": "stdout",
          "text": [
            "/content/detectron2-pipeline\n"
          ]
        }
      ]
    },
    {
      "cell_type": "markdown",
      "metadata": {
        "id": "HuxdGepKKSiT"
      },
      "source": [
        "The commit 9460e3806c3ef5208ba8e5b4099fcb75ef6f39d1 indicates the source code compatible with the content of this story."
      ]
    },
    {
      "cell_type": "code",
      "metadata": {
        "id": "gSl4GezGJ8rJ"
      },
      "source": [
        "!git checkout 9460e3806c3ef5208ba8e5b4099fcb75ef6f39d1"
      ],
      "execution_count": null,
      "outputs": []
    },
    {
      "cell_type": "code",
      "metadata": {
        "colab": {
          "base_uri": "https://localhost:8080/"
        },
        "id": "8x47mrusKO_K",
        "outputId": "3a4bde4f-cfb3-471b-cf20-ae9d21bea274"
      },
      "source": [
        "#!conda env create -f environment.yml"
      ],
      "execution_count": 8,
      "outputs": [
        {
          "output_type": "stream",
          "name": "stdout",
          "text": [
            "/bin/bash: conda: command not found\n"
          ]
        }
      ]
    },
    {
      "cell_type": "code",
      "metadata": {
        "id": "veGDPGKZKcqh"
      },
      "source": [
        "#conda activate detectron2-pipeline"
      ],
      "execution_count": null,
      "outputs": []
    },
    {
      "cell_type": "code",
      "metadata": {
        "colab": {
          "base_uri": "https://localhost:8080/"
        },
        "id": "CCp7Yq-RKgah",
        "outputId": "cac94f4e-a69e-48e5-acfe-ec458898a8b7"
      },
      "source": [
        "%cd .."
      ],
      "execution_count": 1,
      "outputs": [
        {
          "output_type": "stream",
          "name": "stdout",
          "text": [
            "/\n"
          ]
        }
      ]
    },
    {
      "cell_type": "code",
      "metadata": {
        "id": "j4Ml89QoKkxx"
      },
      "source": [
        "!pip install torch==1.7.1+cu101 torchvision==0.8.2+cu101 torchaudio==0.7.2 -f https://download.pytorch.org/whl/torch_stable.html"
      ],
      "execution_count": null,
      "outputs": []
    },
    {
      "cell_type": "code",
      "metadata": {
        "id": "A_z9it8LLAC5"
      },
      "source": [
        "!pip install detectron2 -f https://dl.fbaipublicfiles.com/detectron2/wheels/cu101/torch1.7/index.html"
      ],
      "execution_count": null,
      "outputs": []
    },
    {
      "cell_type": "markdown",
      "metadata": {
        "id": "XeASy67dLmJB"
      },
      "source": [
        "### Restart Runtime"
      ]
    },
    {
      "cell_type": "code",
      "metadata": {
        "colab": {
          "base_uri": "https://localhost:8080/"
        },
        "id": "OpkAedIMLp85",
        "outputId": "981b75ed-1e4c-4569-d996-a7519d07e9fb"
      },
      "source": [
        "!python process_images.py"
      ],
      "execution_count": 3,
      "outputs": [
        {
          "output_type": "stream",
          "name": "stdout",
          "text": [
            "usage: process_images.py [-h] -i INPUT [-o OUTPUT] [-p] [-sb]\n",
            "                         [--config-file CONFIG_FILE] [--config-opts ...]\n",
            "                         [--weights-file WEIGHTS_FILE]\n",
            "                         [--confidence-threshold CONFIDENCE_THRESHOLD]\n",
            "                         [--gpus GPUS] [--cpus CPUS] [--queue-size QUEUE_SIZE]\n",
            "                         [--single-process]\n",
            "process_images.py: error: the following arguments are required: -i/--input\n"
          ]
        }
      ]
    },
    {
      "cell_type": "code",
      "metadata": {
        "id": "BRcHLu-IL8Ch"
      },
      "source": [
        "!python process_images.py -i assets/images/others/couple.jpg -p --config-file configs/COCO-Keypoints/keypoint_rcnn_R_50_FPN_3x.yaml"
      ],
      "execution_count": null,
      "outputs": []
    },
    {
      "cell_type": "code",
      "metadata": {
        "colab": {
          "base_uri": "https://localhost:8080/"
        },
        "id": "c4V28sL7M_x4",
        "outputId": "dc1fe54d-a3ab-4e49-ba91-a28daae1c515"
      },
      "source": [
        "!python process_images.py -i assets/images/others/couple.jpg --config-file configs/COCO-InstanceSegmentation/mask_rcnn_R_50_FPN_3x.yaml"
      ],
      "execution_count": 8,
      "outputs": [
        {
          "output_type": "stream",
          "name": "stdout",
          "text": [
            "Traceback (most recent call last):\n",
            "  File \"process_images.py\", line 109, in <module>\n",
            "    main(args)\n",
            "  File \"process_images.py\", line 65, in main\n",
            "    cpu=False if args.gpus > 0 else True)\n",
            "  File \"/content/detectron2-pipeline/pipeline/utils/detectron.py\", line 9, in setup_cfg\n",
            "    cfg.merge_from_file(config_file)\n",
            "  File \"/usr/local/lib/python3.7/dist-packages/detectron2/config/config.py\", line 31, in merge_from_file\n",
            "    loaded_cfg = self.load_yaml_with_base(cfg_filename, allow_unsafe=allow_unsafe)\n",
            "  File \"/usr/local/lib/python3.7/dist-packages/fvcore/common/config.py\", line 103, in load_yaml_with_base\n",
            "    base_cfg = _load_with_base(base_cfg_file)\n",
            "  File \"/usr/local/lib/python3.7/dist-packages/fvcore/common/config.py\", line 93, in _load_with_base\n",
            "    return cls.load_yaml_with_base(base_cfg_file, allow_unsafe=allow_unsafe)\n",
            "  File \"/usr/local/lib/python3.7/dist-packages/fvcore/common/config.py\", line 59, in load_yaml_with_base\n",
            "    with cls._open_cfg(filename) as f:\n",
            "  File \"/usr/local/lib/python3.7/dist-packages/detectron2/config/config.py\", line 26, in _open_cfg\n",
            "    return PathManager.open(filename, \"r\")\n",
            "  File \"/usr/local/lib/python3.7/dist-packages/iopath/common/file_io.py\", line 930, in open\n",
            "    path, mode, buffering=buffering, **kwargs\n",
            "  File \"/usr/local/lib/python3.7/dist-packages/iopath/common/file_io.py\", line 597, in _open\n",
            "    opener=opener,\n",
            "FileNotFoundError: [Errno 2] No such file or directory: '../detectron2/configs/Base-RCNN-FPN.yaml'\n"
          ]
        }
      ]
    },
    {
      "cell_type": "code",
      "metadata": {
        "id": "QJxO_jaGOHSr"
      },
      "source": [
        ""
      ],
      "execution_count": null,
      "outputs": []
    }
  ]
}